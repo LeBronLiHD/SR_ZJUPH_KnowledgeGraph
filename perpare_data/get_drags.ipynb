{
 "cells": [
  {
   "cell_type": "code",
   "execution_count": 1,
   "metadata": {},
   "outputs": [
    {
     "name": "stderr",
     "output_type": "stream",
     "text": [
      "C:\\Users\\lebro\\AppData\\Local\\Temp\\ipykernel_23348\\2324054218.py:11: DtypeWarning: Columns (1,12) have mixed types. Specify dtype option on import or set low_memory=False.\n",
      "  DATA = pd.read_csv(PATH_1)\n"
     ]
    }
   ],
   "source": [
    "import pandas as pd\n",
    "\n",
    "PATH_1 = \"../data_secret/用户服药记录-UTF-8.csv\"\n",
    "PATH_2 = \"../data_secret/复诊开药-UTF8.csv\"\n",
    "\n",
    "COLUMN_1 = \"药物名称\"\n",
    "COLUMN_2 = \"商品名称\"\n",
    "\n",
    "DATA = pd.read_csv(PATH_1)"
   ]
  },
  {
   "cell_type": "code",
   "execution_count": 2,
   "metadata": {},
   "outputs": [
    {
     "data": {
      "text/html": [
       "<div>\n",
       "<style scoped>\n",
       "    .dataframe tbody tr th:only-of-type {\n",
       "        vertical-align: middle;\n",
       "    }\n",
       "\n",
       "    .dataframe tbody tr th {\n",
       "        vertical-align: top;\n",
       "    }\n",
       "\n",
       "    .dataframe thead th {\n",
       "        text-align: right;\n",
       "    }\n",
       "</style>\n",
       "<table border=\"1\" class=\"dataframe\">\n",
       "  <thead>\n",
       "    <tr style=\"text-align: right;\">\n",
       "      <th></th>\n",
       "      <th>用户主键</th>\n",
       "      <th>用户手机号</th>\n",
       "      <th>用户当前绑定的医生</th>\n",
       "      <th>药物名称</th>\n",
       "      <th>规格</th>\n",
       "      <th>药品化学名</th>\n",
       "      <th>服药日期</th>\n",
       "      <th>记录日期</th>\n",
       "      <th>早饭后剂量</th>\n",
       "      <th>中饭后剂量</th>\n",
       "      <th>...</th>\n",
       "      <th>睡前剂量</th>\n",
       "      <th>必要时剂量</th>\n",
       "      <th>status_dose_one（0/未记录，1/停药，2/已完成）</th>\n",
       "      <th>status_dose_two（0/未记录，1/停药，2/已完成）</th>\n",
       "      <th>status_dose_three（0/未记录，1/停药，2/已完成）</th>\n",
       "      <th>status_dose_four（0/未记录，1/停药，2/已完成）</th>\n",
       "      <th>status_dose_five（0/未记录，1/停药，2/已完成）</th>\n",
       "      <th>take_unit服药剂量</th>\n",
       "      <th>是否停用（1/停用）</th>\n",
       "      <th>picid（是否使用了图片）</th>\n",
       "    </tr>\n",
       "  </thead>\n",
       "  <tbody>\n",
       "    <tr>\n",
       "      <th>0</th>\n",
       "      <td>18233</td>\n",
       "      <td>15812061144</td>\n",
       "      <td>孙睿</td>\n",
       "      <td>乐坦</td>\n",
       "      <td>10mg</td>\n",
       "      <td>唑吡坦片</td>\n",
       "      <td>2/10/2017</td>\n",
       "      <td>2/10/2017 00:01:55</td>\n",
       "      <td>NaN</td>\n",
       "      <td>NaN</td>\n",
       "      <td>...</td>\n",
       "      <td>1</td>\n",
       "      <td>NaN</td>\n",
       "      <td>0</td>\n",
       "      <td>0</td>\n",
       "      <td>0</td>\n",
       "      <td>0</td>\n",
       "      <td>0</td>\n",
       "      <td>NaN</td>\n",
       "      <td>0</td>\n",
       "      <td>0.0</td>\n",
       "    </tr>\n",
       "    <tr>\n",
       "      <th>1</th>\n",
       "      <td>18233</td>\n",
       "      <td>15812061144</td>\n",
       "      <td>孙睿</td>\n",
       "      <td>赛乐特</td>\n",
       "      <td>20mg</td>\n",
       "      <td>帕罗西汀</td>\n",
       "      <td>2/10/2017</td>\n",
       "      <td>2/10/2017 00:01:57</td>\n",
       "      <td>1</td>\n",
       "      <td>NaN</td>\n",
       "      <td>...</td>\n",
       "      <td>NaN</td>\n",
       "      <td>NaN</td>\n",
       "      <td>0</td>\n",
       "      <td>0</td>\n",
       "      <td>0</td>\n",
       "      <td>0</td>\n",
       "      <td>0</td>\n",
       "      <td>NaN</td>\n",
       "      <td>0</td>\n",
       "      <td>0.0</td>\n",
       "    </tr>\n",
       "    <tr>\n",
       "      <th>2</th>\n",
       "      <td>12761</td>\n",
       "      <td>13906886202</td>\n",
       "      <td>毛洪京</td>\n",
       "      <td>罗拉</td>\n",
       "      <td>1mg</td>\n",
       "      <td>劳拉西泮片</td>\n",
       "      <td>2/10/2017</td>\n",
       "      <td>2/10/2017 00:16:34</td>\n",
       "      <td>NaN</td>\n",
       "      <td>NaN</td>\n",
       "      <td>...</td>\n",
       "      <td>1月2日</td>\n",
       "      <td>NaN</td>\n",
       "      <td>0</td>\n",
       "      <td>0</td>\n",
       "      <td>0</td>\n",
       "      <td>0</td>\n",
       "      <td>0</td>\n",
       "      <td>NaN</td>\n",
       "      <td>0</td>\n",
       "      <td>0.0</td>\n",
       "    </tr>\n",
       "    <tr>\n",
       "      <th>3</th>\n",
       "      <td>12761</td>\n",
       "      <td>13906886202</td>\n",
       "      <td>毛洪京</td>\n",
       "      <td>美时玉</td>\n",
       "      <td>50mg</td>\n",
       "      <td>曲唑酮</td>\n",
       "      <td>2/10/2017</td>\n",
       "      <td>2/10/2017 00:16:35</td>\n",
       "      <td>NaN</td>\n",
       "      <td>NaN</td>\n",
       "      <td>...</td>\n",
       "      <td>1</td>\n",
       "      <td>NaN</td>\n",
       "      <td>0</td>\n",
       "      <td>0</td>\n",
       "      <td>0</td>\n",
       "      <td>0</td>\n",
       "      <td>0</td>\n",
       "      <td>NaN</td>\n",
       "      <td>0</td>\n",
       "      <td>0.0</td>\n",
       "    </tr>\n",
       "    <tr>\n",
       "      <th>4</th>\n",
       "      <td>12761</td>\n",
       "      <td>13906886202</td>\n",
       "      <td>毛洪京</td>\n",
       "      <td>博乐欣</td>\n",
       "      <td>75mg</td>\n",
       "      <td>文拉法辛</td>\n",
       "      <td>2/10/2017</td>\n",
       "      <td>2/10/2017 00:16:38</td>\n",
       "      <td>1</td>\n",
       "      <td>NaN</td>\n",
       "      <td>...</td>\n",
       "      <td>NaN</td>\n",
       "      <td>NaN</td>\n",
       "      <td>0</td>\n",
       "      <td>0</td>\n",
       "      <td>0</td>\n",
       "      <td>0</td>\n",
       "      <td>0</td>\n",
       "      <td>NaN</td>\n",
       "      <td>0</td>\n",
       "      <td>0.0</td>\n",
       "    </tr>\n",
       "  </tbody>\n",
       "</table>\n",
       "<p>5 rows × 21 columns</p>\n",
       "</div>"
      ],
      "text/plain": [
       "    用户主键        用户手机号 用户当前绑定的医生 药物名称    规格  药品化学名       服药日期  \\\n",
       "0  18233  15812061144        孙睿   乐坦  10mg   唑吡坦片  2/10/2017   \n",
       "1  18233  15812061144        孙睿  赛乐特  20mg   帕罗西汀  2/10/2017   \n",
       "2  12761  13906886202       毛洪京   罗拉   1mg  劳拉西泮片  2/10/2017   \n",
       "3  12761  13906886202       毛洪京  美时玉  50mg    曲唑酮  2/10/2017   \n",
       "4  12761  13906886202       毛洪京  博乐欣  75mg   文拉法辛  2/10/2017   \n",
       "\n",
       "                 记录日期 早饭后剂量 中饭后剂量  ...  睡前剂量 必要时剂量  \\\n",
       "0  2/10/2017 00:01:55   NaN   NaN  ...     1   NaN   \n",
       "1  2/10/2017 00:01:57     1   NaN  ...   NaN   NaN   \n",
       "2  2/10/2017 00:16:34   NaN   NaN  ...  1月2日   NaN   \n",
       "3  2/10/2017 00:16:35   NaN   NaN  ...     1   NaN   \n",
       "4  2/10/2017 00:16:38     1   NaN  ...   NaN   NaN   \n",
       "\n",
       "  status_dose_one（0/未记录，1/停药，2/已完成）  status_dose_two（0/未记录，1/停药，2/已完成）  \\\n",
       "0                                 0                                  0   \n",
       "1                                 0                                  0   \n",
       "2                                 0                                  0   \n",
       "3                                 0                                  0   \n",
       "4                                 0                                  0   \n",
       "\n",
       "   status_dose_three（0/未记录，1/停药，2/已完成）  status_dose_four（0/未记录，1/停药，2/已完成）  \\\n",
       "0                                    0                                   0   \n",
       "1                                    0                                   0   \n",
       "2                                    0                                   0   \n",
       "3                                    0                                   0   \n",
       "4                                    0                                   0   \n",
       "\n",
       "   status_dose_five（0/未记录，1/停药，2/已完成）  take_unit服药剂量 是否停用（1/停用）  \\\n",
       "0                                   0            NaN          0   \n",
       "1                                   0            NaN          0   \n",
       "2                                   0            NaN          0   \n",
       "3                                   0            NaN          0   \n",
       "4                                   0            NaN          0   \n",
       "\n",
       "   picid（是否使用了图片）  \n",
       "0             0.0  \n",
       "1             0.0  \n",
       "2             0.0  \n",
       "3             0.0  \n",
       "4             0.0  \n",
       "\n",
       "[5 rows x 21 columns]"
      ]
     },
     "execution_count": 2,
     "metadata": {},
     "output_type": "execute_result"
    }
   ],
   "source": [
    "DATA.head()"
   ]
  },
  {
   "cell_type": "code",
   "execution_count": 4,
   "metadata": {},
   "outputs": [
    {
     "name": "stdout",
     "output_type": "stream",
     "text": [
      "452698\n",
      "<class 'pandas.core.series.Series'>\n"
     ]
    }
   ],
   "source": [
    "print(len(DATA[COLUMN_1]))\n",
    "print(type(DATA[COLUMN_1]))"
   ]
  },
  {
   "cell_type": "code",
   "execution_count": 9,
   "metadata": {},
   "outputs": [],
   "source": [
    "DRAG = {}\n",
    "for name in DATA[COLUMN_1]:\n",
    "    if DRAG.get(name) is None:\n",
    "        DRAG[name] = 1\n",
    "    else:\n",
    "        DRAG[name] += + 1"
   ]
  },
  {
   "cell_type": "code",
   "execution_count": 10,
   "metadata": {},
   "outputs": [],
   "source": [
    "DATA = pd.read_csv(PATH_2)"
   ]
  },
  {
   "cell_type": "code",
   "execution_count": 11,
   "metadata": {},
   "outputs": [],
   "source": [
    "for name in DATA[COLUMN_2]:\n",
    "    if DRAG.get(name) is None:\n",
    "        DRAG[name] = 1\n",
    "    else:\n",
    "        DRAG[name] += + 1"
   ]
  },
  {
   "cell_type": "code",
   "execution_count": 12,
   "metadata": {},
   "outputs": [
    {
     "name": "stdout",
     "output_type": "stream",
     "text": [
      "180\n"
     ]
    }
   ],
   "source": [
    "print(len(DRAG))"
   ]
  },
  {
   "cell_type": "code",
   "execution_count": 13,
   "metadata": {},
   "outputs": [
    {
     "name": "stdout",
     "output_type": "stream",
     "text": [
      "{'乐坦': 124, '赛乐特': 6254, '罗拉': 26774, '美时玉': 33041, '博乐欣': 7001, '思瑞康': 21920, '唯他停': 240, '氯硝西泮片': 10507, '利必通': 448, '佳普乐': 7547, '德巴金': 2880, '启维': 3023, '来士普': 38330, '乐友': 53421, '兰释': 15854, '思诺思': 9285, '舒绪': 1567, '森福罗': 2182, '三辰': 51532, '怡诺思': 15949, '希德': 531, '阿普唑仑片': 5538, '普萘洛尔片': 547, '欧兰宁': 3363, '待命名': 3232, '伊坦宁': 32572, '左洛复': 4492, '百洛特': 6077, '米尔宁': 2484, '文飞': 10956, '盐酸舍曲林': 1139, '律康': 2161, '康弘舒肝解郁胶囊': 347, '艾司唑仑片': 2810, '再普乐': 1153, '每素玉': 216, '瑞必乐': 3214, '乌灵胶囊': 1166, '派迪生': 2816, '欣百达': 17641, '舒思': 839, '瑞美隆': 12493, '康多宁': 173, '一舒': 612, '景诺宁': 4, '优菲': 5694, '佳静安定': 242, '喜普妙': 520, '多弗': 361, '佳乐定': 2191, '黛力新': 2509, '盐酸异丙嗪片': 1175, '百适可': 23983, '玖卫九味镇心颗粒': 192, '氯氮平片': 215, '碳酸锂片': 201, '舒坦罗': 621, '舒乐安定': 2883, '优必罗': 237, '舒眠胶囊': 170, '维思通': 395, '解郁安神胶囊': 7, '氯米帕明片': 15, '安律凡': 257, '倍他乐克': 196, '亚邦': 3, '奥思平': 4593, '碳酸锂缓释片': 3171, '百乐眠胶囊': 394, '多塞平片': 134, '安定': 241, '阿米替林片': 312, '阿美宁': 2725, '补肾益脑丸': 3, '乐孚亭': 171, '硝西泮片': 47, '迪沙': 42, '奥兰之': 535, '思贝格': 5, '良济眠安宁颗粒': 16, '枣仁安神胶囊': 28, '金盟': 163, '百介民': 192, '思考林': 2, '米安色林片': 39, '百忧解': 627, '维诺定': 2799, '舒必利片': 21, '十一味维他命胶囊': 1, '敖东安神补脑液': 18, '心达悦': 162, '神泰': 14, '奥麦伦': 45, '备乐': 131, '胡氏安神1方': 11, '搏力高': 16, nan: 10, '开瑞坦': 4, '解郁安神颗粒': 10, '悉敏': 17, '诺宾': 34, '奇比特': 3, '帕可': 24, '思尔明': 3, '曲莱': 3, '万生力乐': 534, '忆孟返': 3259, '达比妥': 3, '西替利嗪糖浆': 1, '普特彼软膏': 129, '阿洛刻片': 26, '优泽片': 3, '开思亭片': 204, '酮替芬片': 19, '舒宁安': 72, '美能片': 170, '地奈德乳膏': 91, '畅然片': 1, '顺尔宁': 14, '氧化锌软膏': 2, '澳能软膏/新适确得': 56, '莫米松/艾洛松软膏': 6, '皿治林': 73, '信立平': 13, '氯硝安定': 8, '测试药物一': 8, '测试药物三': 1, '测试药物二': 1, '丙戊酸镁缓释片': 2, '异丙嗪片': 2, '舒肝解郁胶囊': 44, '奋乃静片': 3, '盐酸阿米替林片': 35, '乐元': 64, '盐酸苯海索片': 61, '百乐眠': 10, '盐酸米安色林片': 11, '洛珊': 27, '帕克': 1, '奥派': 47, '仁澳': 15, '盐酸氯米帕明片': 31, '养血清脑丸': 8, '麝香保心丸': 1, '天保宁银杏叶片': 1, '可同': 29, '喜复至': 3, '专注达': 4, '力复君安': 9, '九味镇心颗粒': 54, '倍特': 12, '万仪': 10, '索乐': 3, '索普乐': 4, '博思清': 30, '乐朋': 1, '聚力能': 1, '聚立能': 53, '泰纳': 11, '安云': 27, '盐酸多奈哌齐口崩片': 2, '盐酸米那普仑片': 6, '久时安': 6, '索乐芬': 2, '易倍申': 11, '一夫欣': 5, '妥泰': 6, '倍特罗': 1, '西比灵': 1, '芮达': 7, '卓乐定': 4, '多美康': 7, '派汀': 35, '喜思平': 8, '思梦还': 7, '启程': 1, '盐酸哌唑嗪片': 1, '莫达非尼胶囊': 2, '劳拉西泮片': 18, 'PS128益生菌固体饮料': 1}\n"
     ]
    }
   ],
   "source": [
    "print(DRAG)"
   ]
  },
  {
   "cell_type": "code",
   "execution_count": 18,
   "metadata": {},
   "outputs": [],
   "source": [
    "S_D = {k: v for k, v in sorted(DRAG.items(), key=lambda item: item[1])}"
   ]
  },
  {
   "cell_type": "code",
   "execution_count": 20,
   "metadata": {},
   "outputs": [],
   "source": [
    "S_S_D = {k: v for k, v in S_D.items() if v >= 50}"
   ]
  },
  {
   "cell_type": "code",
   "execution_count": 21,
   "metadata": {},
   "outputs": [
    {
     "name": "stdout",
     "output_type": "stream",
     "text": [
      "{'聚立能': 53, '九味镇心颗粒': 54, '澳能软膏/新适确得': 56, '盐酸苯海索片': 61, '乐元': 64, '舒宁安': 72, '皿治林': 73, '地奈德乳膏': 91, '乐坦': 124, '普特彼软膏': 129, '备乐': 131, '多塞平片': 134, '心达悦': 162, '金盟': 163, '舒眠胶囊': 170, '美能片': 170, '乐孚亭': 171, '康多宁': 173, '玖卫九味镇心颗粒': 192, '百介民': 192, '倍他乐克': 196, '碳酸锂片': 201, '开思亭片': 204, '氯氮平片': 215, '每素玉': 216, '优必罗': 237, '唯他停': 240, '安定': 241, '佳静安定': 242, '安律凡': 257, '阿米替林片': 312, '康弘舒肝解郁胶囊': 347, '多弗': 361, '百乐眠胶囊': 394, '维思通': 395, '利必通': 448, '喜普妙': 520, '希德': 531, '万生力乐': 534, '奥兰之': 535, '普萘洛尔片': 547, '一舒': 612, '舒坦罗': 621, '百忧解': 627, '舒思': 839, '盐酸舍曲林': 1139, '再普乐': 1153, '乌灵胶囊': 1166, '盐酸异丙嗪片': 1175, '舒绪': 1567, '律康': 2161, '森福罗': 2182, '佳乐定': 2191, '米尔宁': 2484, '黛力新': 2509, '阿美宁': 2725, '维诺定': 2799, '艾司唑仑片': 2810, '派迪生': 2816, '德巴金': 2880, '舒乐安定': 2883, '启维': 3023, '碳酸锂缓释片': 3171, '瑞必乐': 3214, '待命名': 3232, '忆孟返': 3259, '欧兰宁': 3363, '左洛复': 4492, '奥思平': 4593, '阿普唑仑片': 5538, '优菲': 5694, '百洛特': 6077, '赛乐特': 6254, '博乐欣': 7001, '佳普乐': 7547, '思诺思': 9285, '氯硝西泮片': 10507, '文飞': 10956, '瑞美隆': 12493, '兰释': 15854, '怡诺思': 15949, '欣百达': 17641, '思瑞康': 21920, '百适可': 23983, '罗拉': 26774, '伊坦宁': 32572, '美时玉': 33041, '来士普': 38330, '三辰': 51532, '乐友': 53421}\n"
     ]
    }
   ],
   "source": [
    "print(S_S_D)"
   ]
  },
  {
   "cell_type": "code",
   "execution_count": 24,
   "metadata": {},
   "outputs": [],
   "source": [
    "import xlsxwriter\n",
    "\n",
    "workbook = xlsxwriter.Workbook('temp.xlsx')\n",
    "worksheet = workbook.add_worksheet(\"sheet1\")\n",
    "idx = 0\n",
    "for k, v in S_S_D.items():\n",
    "    worksheet.write(idx, 0, k)\n",
    "    idx += 1\n",
    "workbook.close()"
   ]
  }
 ],
 "metadata": {
  "kernelspec": {
   "display_name": "Python 3 (ipykernel)",
   "language": "python",
   "name": "python3"
  },
  "language_info": {
   "codemirror_mode": {
    "name": "ipython",
    "version": 3
   },
   "file_extension": ".py",
   "mimetype": "text/x-python",
   "name": "python",
   "nbconvert_exporter": "python",
   "pygments_lexer": "ipython3",
   "version": "3.9.12"
  }
 },
 "nbformat": 4,
 "nbformat_minor": 2
}
