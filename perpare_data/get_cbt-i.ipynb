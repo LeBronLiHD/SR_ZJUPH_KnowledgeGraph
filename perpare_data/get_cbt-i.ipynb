{
 "cells": [
  {
   "cell_type": "code",
   "execution_count": 1,
   "id": "0617b669",
   "metadata": {},
   "outputs": [],
   "source": [
    "import pandas as pd\n",
    "\n",
    "PATH = \"../data_secret/CBT-I-UTF8.csv\"\n",
    "\n",
    "COLUMN_1 = \"CBT-I视频编号\"\n",
    "COLUMN_2 = \"CBT-I类型\"\n",
    "\n",
    "DATA = pd.read_csv(PATH)"
   ]
  },
  {
   "cell_type": "code",
   "execution_count": 2,
   "id": "b4a9997d",
   "metadata": {},
   "outputs": [
    {
     "name": "stdout",
     "output_type": "stream",
     "text": [
      "1648355\n",
      "<class 'pandas.core.series.Series'>\n"
     ]
    }
   ],
   "source": [
    "print(len(DATA[COLUMN_1]))\n",
    "print(type(DATA[COLUMN_1]))"
   ]
  },
  {
   "cell_type": "code",
   "execution_count": 3,
   "id": "8719fc67",
   "metadata": {},
   "outputs": [
    {
     "name": "stdout",
     "output_type": "stream",
     "text": [
      "1648355\n",
      "<class 'pandas.core.series.Series'>\n"
     ]
    }
   ],
   "source": [
    "print(len(DATA[COLUMN_2]))\n",
    "print(type(DATA[COLUMN_2]))"
   ]
  },
  {
   "cell_type": "code",
   "execution_count": 4,
   "id": "3dcece78",
   "metadata": {},
   "outputs": [],
   "source": [
    "CBT_I = {}\n",
    "size = len(DATA)\n",
    "for i in range(size):\n",
    "    if CBT_I.get(DATA[COLUMN_2][i] + \"_\" + str(DATA[COLUMN_1][i])) is None:\n",
    "        CBT_I[DATA[COLUMN_2][i] + \"_\" + str(DATA[COLUMN_1][i])] = 1\n",
    "    else:\n",
    "        CBT_I[DATA[COLUMN_2][i] + \"_\" + str(DATA[COLUMN_1][i])] += 1"
   ]
  },
  {
   "cell_type": "code",
   "execution_count": 5,
   "id": "e600984d",
   "metadata": {},
   "outputs": [
    {
     "name": "stdout",
     "output_type": "stream",
     "text": [
      "133\n"
     ]
    }
   ],
   "source": [
    "print(len(CBT_I))"
   ]
  },
  {
   "cell_type": "code",
   "execution_count": 6,
   "id": "463a882c",
   "metadata": {},
   "outputs": [
    {
     "name": "stdout",
     "output_type": "stream",
     "text": [
      "{'睡眠卫生_1': 33708, '睡眠卫生_2': 19294, '睡眠卫生_6': 17703, '睡眠卫生_13': 11420, '睡眠卫生_14': 13150, '睡眠卫生_25': 9843, '睡眠卫生_26': 9200, '睡眠卫生_3': 20673, '睡眠卫生_4': 17880, '睡眠卫生_5': 23399, '睡眠卫生_7': 14812, '睡眠卫生_8': 14095, '睡眠卫生_9': 12125, '睡眠卫生_11': 17627, '睡眠卫生_28': 25938, '睡眠限制_29': 37136, '睡眠限制_30': 31100, '睡眠限制_31': 28063, '睡眠限制_33': 15818, '睡眠限制_40': 18379, '睡眠限制_42': 9830, '睡眠限制_50': 12512, '睡眠限制_51': 12786, '睡眠限制_52': 15525, '睡眠限制_54': 28154, '放松训练_55': 27323, '放松训练_56': 26969, '放松训练_57': 26307, '放松训练_59': 24860, '放松训练_68': 10006, '放松训练_77': 11463, '放松训练_82': 44069, '刺激控制_83': 13566, '刺激控制_85': 10191, '刺激控制_86': 10551, '刺激控制_95': 6299, '刺激控制_97': 6731, '刺激控制_110': 12905, '认知重构_111': 6845, '认知重构_112': 7942, '认知重构_113': 8624, '认知重构_114': 8301, '认知重构_115': 11729, '认知重构_116': 8266, '认知重构_117': 8485, '认知重构_118': 9716, '认知重构_119': 8123, '认知重构_120': 8104, '认知重构_121': 9151, '认知重构_126': 5704, '认知重构_129': 4197, '认知重构_130': 4721, '认知重构_131': 4367, '认知重构_132': 4344, '认知重构_133': 4084, '认知重构_134': 5464, '认知重构_135': 6013, '认知重构_136': 4827, '认知重构_137': 4300, '认知重构_138': 5005, '认知重构_139': 4872, '认知重构_140': 5802, '认知重构_141': 8151, '认知重构_142': 35197, '睡眠卫生_18': 13165, '睡眠卫生_19': 13996, '睡眠卫生_20': 14999, '睡眠卫生_21': 12941, '睡眠限制_34': 25245, '睡眠限制_35': 16839, '睡眠限制_37': 21519, '睡眠限制_38': 13016, '睡眠限制_39': 18207, '睡眠限制_41': 13085, '放松训练_61': 18505, '放松训练_64': 11054, '放松训练_69': 13642, '放松训练_71': 15203, '放松训练_74': 10219, '刺激控制_84': 11287, '刺激控制_96': 9362, '放松训练_62': 16694, '放松训练_63': 14603, '睡眠卫生_15': 11615, '睡眠卫生_16': 8615, '睡眠卫生_17': 8081, '睡眠卫生_22': 12504, '睡眠限制_32': 26165, '睡眠限制_36': 23794, '睡眠限制_43': 9588, '睡眠限制_44': 12620, '睡眠限制_45': 13073, '睡眠限制_46': 11902, '睡眠限制_47': 12130, '睡眠限制_48': 12537, '睡眠限制_49': 12647, '放松训练_75': 12916, '放松训练_76': 9000, '放松训练_78': 9210, '放松训练_79': 8996, '放松训练_80': 11745, '放松训练_81': 11016, '刺激控制_88': 8351, '刺激控制_90': 8169, '刺激控制_91': 8563, '刺激控制_100': 6600, '刺激控制_102': 3604, '认知重构_122': 7042, '认知重构_127': 5526, '认知重构_128': 6220, '睡眠卫生_23': 9608, '睡眠卫生_27': 14152, '放松训练_65': 13225, '放松训练_66': 14615, '刺激控制_87': 10270, '刺激控制_89': 6253, '刺激控制_92': 7330, '刺激控制_93': 4522, '刺激控制_94': 7809, '刺激控制_98': 5686, '刺激控制_99': 6166, '刺激控制_101': 5486, '刺激控制_103': 5352, '刺激控制_104': 5104, '刺激控制_105': 4928, '刺激控制_106': 4890, '刺激控制_107': 5294, '刺激控制_108': 6767, '刺激控制_109': 6377, '认知重构_123': 6058, '认知重构_124': 5051, '认知重构_125': 5161, '睡眠卫生_24': 8697}\n"
     ]
    }
   ],
   "source": [
    "print(CBT_I)"
   ]
  },
  {
   "cell_type": "code",
   "execution_count": 7,
   "id": "45e42fe6",
   "metadata": {},
   "outputs": [],
   "source": [
    "TYPE = {\n",
    "    \"睡眠卫生\": \"SBTI_SLEEP_HYGIENE\",\n",
    "    \"睡眠限制\": \"SBTI_SLEEP_RESTRICTION\",\n",
    "    \"放松训练\": \"SBTI_RELAXATION_TRAINING\",\n",
    "    \"刺激控制\": \"SBTI_STIMULUS_CONTROL\",\n",
    "    \"认知重构\": \"SBTI_CONGNITIVE_RESTRUCTURING\"\n",
    "}"
   ]
  },
  {
   "cell_type": "code",
   "execution_count": 10,
   "id": "37e3910c",
   "metadata": {},
   "outputs": [
    {
     "name": "stdout",
     "output_type": "stream",
     "text": [
      "睡眠卫生\n"
     ]
    }
   ],
   "source": [
    "print('睡眠卫生_1'[:4])"
   ]
  },
  {
   "cell_type": "code",
   "execution_count": 12,
   "id": "da471d90",
   "metadata": {},
   "outputs": [],
   "source": [
    "import xlsxwriter\n",
    "\n",
    "workbook = xlsxwriter.Workbook('temp.xlsx')\n",
    "worksheet = workbook.add_worksheet(\"sheet1\")\n",
    "idx = 0\n",
    "for k, v in CBT_I.items():\n",
    "    worksheet.write(idx, 1, k)\n",
    "    worksheet.write(idx, 2, TYPE[k[:4]])\n",
    "    idx += 1\n",
    "workbook.close()"
   ]
  }
 ],
 "metadata": {
  "kernelspec": {
   "display_name": "Python 3 (ipykernel)",
   "language": "python",
   "name": "python3"
  },
  "language_info": {
   "codemirror_mode": {
    "name": "ipython",
    "version": 3
   },
   "file_extension": ".py",
   "mimetype": "text/x-python",
   "name": "python",
   "nbconvert_exporter": "python",
   "pygments_lexer": "ipython3",
   "version": "3.9.12"
  }
 },
 "nbformat": 4,
 "nbformat_minor": 5
}
